{
 "cells": [
  {
   "cell_type": "code",
   "execution_count": 1,
   "id": "b1604d05-5b54-4058-8ab8-9bfadd95062c",
   "metadata": {},
   "outputs": [],
   "source": [
    "import numpy as np\n",
    "import pandas as pd"
   ]
  },
  {
   "cell_type": "code",
   "execution_count": 2,
   "id": "dc2780fa-4f75-4ed7-a151-f8a6489b2479",
   "metadata": {},
   "outputs": [],
   "source": [
    "df = pd.read_csv(\"./test_dataset.csv\")"
   ]
  },
  {
   "cell_type": "code",
   "execution_count": 3,
   "id": "6f155bfc-15a0-433e-add0-619d1726d56b",
   "metadata": {},
   "outputs": [
    {
     "data": {
      "text/html": [
       "<div>\n",
       "<style scoped>\n",
       "    .dataframe tbody tr th:only-of-type {\n",
       "        vertical-align: middle;\n",
       "    }\n",
       "\n",
       "    .dataframe tbody tr th {\n",
       "        vertical-align: top;\n",
       "    }\n",
       "\n",
       "    .dataframe thead th {\n",
       "        text-align: right;\n",
       "    }\n",
       "</style>\n",
       "<table border=\"1\" class=\"dataframe\">\n",
       "  <thead>\n",
       "    <tr style=\"text-align: right;\">\n",
       "      <th></th>\n",
       "      <th>Country</th>\n",
       "      <th>Age</th>\n",
       "      <th>Salary</th>\n",
       "      <th>Purchased</th>\n",
       "    </tr>\n",
       "  </thead>\n",
       "  <tbody>\n",
       "    <tr>\n",
       "      <th>0</th>\n",
       "      <td>USA</td>\n",
       "      <td>25.0</td>\n",
       "      <td>50000.0</td>\n",
       "      <td>True</td>\n",
       "    </tr>\n",
       "    <tr>\n",
       "      <th>1</th>\n",
       "      <td>Canada</td>\n",
       "      <td>NaN</td>\n",
       "      <td>60000.0</td>\n",
       "      <td>False</td>\n",
       "    </tr>\n",
       "    <tr>\n",
       "      <th>2</th>\n",
       "      <td>Germany</td>\n",
       "      <td>35.0</td>\n",
       "      <td>NaN</td>\n",
       "      <td>True</td>\n",
       "    </tr>\n",
       "    <tr>\n",
       "      <th>3</th>\n",
       "      <td>Australia</td>\n",
       "      <td>28.0</td>\n",
       "      <td>55000.0</td>\n",
       "      <td>False</td>\n",
       "    </tr>\n",
       "    <tr>\n",
       "      <th>4</th>\n",
       "      <td>India</td>\n",
       "      <td>45.0</td>\n",
       "      <td>NaN</td>\n",
       "      <td>True</td>\n",
       "    </tr>\n",
       "    <tr>\n",
       "      <th>5</th>\n",
       "      <td>UK</td>\n",
       "      <td>NaN</td>\n",
       "      <td>62000.0</td>\n",
       "      <td>False</td>\n",
       "    </tr>\n",
       "    <tr>\n",
       "      <th>6</th>\n",
       "      <td>Japan</td>\n",
       "      <td>32.0</td>\n",
       "      <td>58000.0</td>\n",
       "      <td>True</td>\n",
       "    </tr>\n",
       "    <tr>\n",
       "      <th>7</th>\n",
       "      <td>France</td>\n",
       "      <td>29.0</td>\n",
       "      <td>NaN</td>\n",
       "      <td>False</td>\n",
       "    </tr>\n",
       "    <tr>\n",
       "      <th>8</th>\n",
       "      <td>Brazil</td>\n",
       "      <td>NaN</td>\n",
       "      <td>75000.0</td>\n",
       "      <td>True</td>\n",
       "    </tr>\n",
       "    <tr>\n",
       "      <th>9</th>\n",
       "      <td>Mexico</td>\n",
       "      <td>41.0</td>\n",
       "      <td>54000.0</td>\n",
       "      <td>False</td>\n",
       "    </tr>\n",
       "  </tbody>\n",
       "</table>\n",
       "</div>"
      ],
      "text/plain": [
       "     Country   Age   Salary  Purchased\n",
       "0        USA  25.0  50000.0       True\n",
       "1     Canada   NaN  60000.0      False\n",
       "2    Germany  35.0      NaN       True\n",
       "3  Australia  28.0  55000.0      False\n",
       "4      India  45.0      NaN       True\n",
       "5         UK   NaN  62000.0      False\n",
       "6      Japan  32.0  58000.0       True\n",
       "7     France  29.0      NaN      False\n",
       "8     Brazil   NaN  75000.0       True\n",
       "9     Mexico  41.0  54000.0      False"
      ]
     },
     "execution_count": 3,
     "metadata": {},
     "output_type": "execute_result"
    }
   ],
   "source": [
    "df"
   ]
  },
  {
   "cell_type": "code",
   "execution_count": 4,
   "id": "91da4926-908f-4702-b138-af4ab74b1adc",
   "metadata": {},
   "outputs": [],
   "source": [
    "x = df[[\"Country\",\"Age\",\"Salary\"]].values"
   ]
  },
  {
   "cell_type": "code",
   "execution_count": 5,
   "id": "6e229cc8-3f7a-447d-8164-bc73f17a1d5c",
   "metadata": {},
   "outputs": [
    {
     "data": {
      "text/plain": [
       "array([['USA', 25.0, 50000.0],\n",
       "       ['Canada', nan, 60000.0],\n",
       "       ['Germany', 35.0, nan],\n",
       "       ['Australia', 28.0, 55000.0],\n",
       "       ['India', 45.0, nan],\n",
       "       ['UK', nan, 62000.0],\n",
       "       ['Japan', 32.0, 58000.0],\n",
       "       ['France', 29.0, nan],\n",
       "       ['Brazil', nan, 75000.0],\n",
       "       ['Mexico', 41.0, 54000.0]], dtype=object)"
      ]
     },
     "execution_count": 5,
     "metadata": {},
     "output_type": "execute_result"
    }
   ],
   "source": [
    "x"
   ]
  },
  {
   "cell_type": "code",
   "execution_count": 6,
   "id": "7275a8bb-039e-402f-873b-134e1a27b5f4",
   "metadata": {},
   "outputs": [],
   "source": [
    "y = df[[\"Purchased\"]].values"
   ]
  },
  {
   "cell_type": "code",
   "execution_count": 7,
   "id": "30d8d692-d11d-4ad9-935d-cb99d582043b",
   "metadata": {},
   "outputs": [
    {
     "data": {
      "text/plain": [
       "array([[ True],\n",
       "       [False],\n",
       "       [ True],\n",
       "       [False],\n",
       "       [ True],\n",
       "       [False],\n",
       "       [ True],\n",
       "       [False],\n",
       "       [ True],\n",
       "       [False]])"
      ]
     },
     "execution_count": 7,
     "metadata": {},
     "output_type": "execute_result"
    }
   ],
   "source": [
    "y"
   ]
  },
  {
   "cell_type": "code",
   "execution_count": 8,
   "id": "66571000-9a70-483b-8872-c1ae2ceeb624",
   "metadata": {},
   "outputs": [],
   "source": [
    "from sklearn.impute import SimpleImputer"
   ]
  },
  {
   "cell_type": "code",
   "execution_count": 11,
   "id": "17ed9b18-3220-4a8d-904f-34037cfb3493",
   "metadata": {},
   "outputs": [],
   "source": [
    "imputer = SimpleImputer(missing_values=np.nan, strategy='mean')"
   ]
  },
  {
   "cell_type": "code",
   "execution_count": 12,
   "id": "650b981f-e96e-4142-9513-b79cfb94121d",
   "metadata": {},
   "outputs": [],
   "source": [
    "imputer = imputer.fit(x[:,1:3])"
   ]
  },
  {
   "cell_type": "code",
   "execution_count": 13,
   "id": "d2b98858-c224-46bf-8899-8f569eab9591",
   "metadata": {},
   "outputs": [],
   "source": [
    "x[:,1:3]=imputer.transform(x[:,1:3])"
   ]
  },
  {
   "cell_type": "code",
   "execution_count": 14,
   "id": "870b0ed6-8ed4-4d03-9d37-871b01b223f4",
   "metadata": {},
   "outputs": [
    {
     "data": {
      "text/plain": [
       "array([['USA', 25.0, 50000.0],\n",
       "       ['Canada', 33.57142857142857, 60000.0],\n",
       "       ['Germany', 35.0, 59142.857142857145],\n",
       "       ['Australia', 28.0, 55000.0],\n",
       "       ['India', 45.0, 59142.857142857145],\n",
       "       ['UK', 33.57142857142857, 62000.0],\n",
       "       ['Japan', 32.0, 58000.0],\n",
       "       ['France', 29.0, 59142.857142857145],\n",
       "       ['Brazil', 33.57142857142857, 75000.0],\n",
       "       ['Mexico', 41.0, 54000.0]], dtype=object)"
      ]
     },
     "execution_count": 14,
     "metadata": {},
     "output_type": "execute_result"
    }
   ],
   "source": [
    "x"
   ]
  },
  {
   "cell_type": "code",
   "execution_count": 15,
   "id": "f2513b34-35f3-4b09-8fc2-afc389e7091a",
   "metadata": {},
   "outputs": [],
   "source": [
    "from sklearn.preprocessing import LabelEncoder"
   ]
  },
  {
   "cell_type": "code",
   "execution_count": 16,
   "id": "75711413-fd1a-4805-a205-9a373efe153c",
   "metadata": {},
   "outputs": [],
   "source": [
    "label_encoder_x = LabelEncoder()"
   ]
  },
  {
   "cell_type": "code",
   "execution_count": 17,
   "id": "51b3d46d-6dec-41e5-a9c4-92e9f1c2d3d7",
   "metadata": {},
   "outputs": [],
   "source": [
    "x[:,0] = label_encoder_x.fit_transform(x[:,0])"
   ]
  },
  {
   "cell_type": "code",
   "execution_count": 18,
   "id": "a8dafcfc-1c61-43f9-9c3b-41fad4c28e5d",
   "metadata": {},
   "outputs": [
    {
     "data": {
      "text/plain": [
       "array([[9, 25.0, 50000.0],\n",
       "       [2, 33.57142857142857, 60000.0],\n",
       "       [4, 35.0, 59142.857142857145],\n",
       "       [0, 28.0, 55000.0],\n",
       "       [5, 45.0, 59142.857142857145],\n",
       "       [8, 33.57142857142857, 62000.0],\n",
       "       [6, 32.0, 58000.0],\n",
       "       [3, 29.0, 59142.857142857145],\n",
       "       [1, 33.57142857142857, 75000.0],\n",
       "       [7, 41.0, 54000.0]], dtype=object)"
      ]
     },
     "execution_count": 18,
     "metadata": {},
     "output_type": "execute_result"
    }
   ],
   "source": [
    "x"
   ]
  },
  {
   "cell_type": "code",
   "execution_count": 19,
   "id": "d9bb128e-e000-4b2e-9226-5e5a1c3638ee",
   "metadata": {},
   "outputs": [],
   "source": [
    "from sklearn.preprocessing import OneHotEncoder"
   ]
  },
  {
   "cell_type": "code",
   "execution_count": 20,
   "id": "e160c72f-9a8d-4526-af8c-c4124f7e5a34",
   "metadata": {},
   "outputs": [],
   "source": [
    "oneHotEncoder = OneHotEncoder()"
   ]
  },
  {
   "cell_type": "code",
   "execution_count": 22,
   "id": "985efb78-2a28-42f7-b858-28b32bdb1193",
   "metadata": {},
   "outputs": [],
   "source": [
    "x=oneHotEncoder.fit_transform(df.Country.values.reshape(-1,1)).toarray()"
   ]
  },
  {
   "cell_type": "code",
   "execution_count": 23,
   "id": "50df83e1-5984-49d0-a33a-56267bcefe03",
   "metadata": {},
   "outputs": [
    {
     "data": {
      "text/plain": [
       "array([[0., 0., 0., 0., 0., 0., 0., 0., 0., 1.],\n",
       "       [0., 0., 1., 0., 0., 0., 0., 0., 0., 0.],\n",
       "       [0., 0., 0., 0., 1., 0., 0., 0., 0., 0.],\n",
       "       [1., 0., 0., 0., 0., 0., 0., 0., 0., 0.],\n",
       "       [0., 0., 0., 0., 0., 1., 0., 0., 0., 0.],\n",
       "       [0., 0., 0., 0., 0., 0., 0., 0., 1., 0.],\n",
       "       [0., 0., 0., 0., 0., 0., 1., 0., 0., 0.],\n",
       "       [0., 0., 0., 1., 0., 0., 0., 0., 0., 0.],\n",
       "       [0., 1., 0., 0., 0., 0., 0., 0., 0., 0.],\n",
       "       [0., 0., 0., 0., 0., 0., 0., 1., 0., 0.]])"
      ]
     },
     "execution_count": 23,
     "metadata": {},
     "output_type": "execute_result"
    }
   ],
   "source": [
    "x"
   ]
  },
  {
   "cell_type": "code",
   "execution_count": 24,
   "id": "9fb6f250-db34-4d79-9ec8-6da99e34cbd8",
   "metadata": {},
   "outputs": [],
   "source": [
    "label_encoder_y = LabelEncoder()"
   ]
  },
  {
   "cell_type": "code",
   "execution_count": 25,
   "id": "2467792c-1d91-444b-81b7-204fc596c51a",
   "metadata": {},
   "outputs": [
    {
     "name": "stderr",
     "output_type": "stream",
     "text": [
      "/home/ammad/anaconda3/lib/python3.12/site-packages/sklearn/preprocessing/_label.py:114: DataConversionWarning: A column-vector y was passed when a 1d array was expected. Please change the shape of y to (n_samples, ), for example using ravel().\n",
      "  y = column_or_1d(y, warn=True)\n"
     ]
    }
   ],
   "source": [
    "y = label_encoder_y.fit_transform(y)"
   ]
  },
  {
   "cell_type": "code",
   "execution_count": 26,
   "id": "b53ecb55-dbee-4ef9-8652-1f9e182c0412",
   "metadata": {},
   "outputs": [
    {
     "data": {
      "text/plain": [
       "array([1, 0, 1, 0, 1, 0, 1, 0, 1, 0])"
      ]
     },
     "execution_count": 26,
     "metadata": {},
     "output_type": "execute_result"
    }
   ],
   "source": [
    "y"
   ]
  },
  {
   "cell_type": "code",
   "execution_count": 27,
   "id": "aec92519-8ae6-4458-b806-314e05ef5482",
   "metadata": {},
   "outputs": [],
   "source": [
    "from sklearn.model_selection import train_test_split"
   ]
  },
  {
   "cell_type": "code",
   "execution_count": 28,
   "id": "08573c4b-1350-48b0-af2b-7126eb24e286",
   "metadata": {},
   "outputs": [],
   "source": [
    "x_train, x_test, y_train, y_test = train_test_split(x, y, test_size=0.2, random_state=0)"
   ]
  },
  {
   "cell_type": "code",
   "execution_count": 29,
   "id": "8be88eba-6302-49be-b77e-7f36e28580b5",
   "metadata": {},
   "outputs": [
    {
     "data": {
      "text/plain": [
       "array([[0., 0., 0., 0., 0., 1., 0., 0., 0., 0.],\n",
       "       [0., 0., 0., 0., 0., 0., 0., 1., 0., 0.],\n",
       "       [0., 0., 1., 0., 0., 0., 0., 0., 0., 0.],\n",
       "       [0., 0., 0., 0., 0., 0., 1., 0., 0., 0.],\n",
       "       [0., 0., 0., 1., 0., 0., 0., 0., 0., 0.],\n",
       "       [1., 0., 0., 0., 0., 0., 0., 0., 0., 0.],\n",
       "       [0., 0., 0., 0., 0., 0., 0., 0., 0., 1.],\n",
       "       [0., 0., 0., 0., 0., 0., 0., 0., 1., 0.]])"
      ]
     },
     "execution_count": 29,
     "metadata": {},
     "output_type": "execute_result"
    }
   ],
   "source": [
    "x_train"
   ]
  },
  {
   "cell_type": "code",
   "execution_count": 30,
   "id": "388b1f5c-e094-4d7a-ae4e-e72ae9f5075e",
   "metadata": {},
   "outputs": [
    {
     "data": {
      "text/plain": [
       "array([[0., 0., 0., 0., 1., 0., 0., 0., 0., 0.],\n",
       "       [0., 1., 0., 0., 0., 0., 0., 0., 0., 0.]])"
      ]
     },
     "execution_count": 30,
     "metadata": {},
     "output_type": "execute_result"
    }
   ],
   "source": [
    "x_test"
   ]
  },
  {
   "cell_type": "code",
   "execution_count": 31,
   "id": "915bf123-c20e-4bfa-b5b7-db4a77fed96a",
   "metadata": {},
   "outputs": [
    {
     "data": {
      "text/plain": [
       "array([1, 1])"
      ]
     },
     "execution_count": 31,
     "metadata": {},
     "output_type": "execute_result"
    }
   ],
   "source": [
    "y_test"
   ]
  },
  {
   "cell_type": "code",
   "execution_count": 32,
   "id": "88d03dd6-32d6-4420-a067-685541ba8df2",
   "metadata": {},
   "outputs": [],
   "source": [
    "from sklearn.preprocessing import StandardScaler"
   ]
  },
  {
   "cell_type": "code",
   "execution_count": 33,
   "id": "c6e41e50-1a68-4776-a3f0-ecc4f1461ce0",
   "metadata": {},
   "outputs": [],
   "source": [
    "sc_x = StandardScaler()"
   ]
  },
  {
   "cell_type": "code",
   "execution_count": 34,
   "id": "90daae49-620a-46d3-97f6-98f3420cd999",
   "metadata": {},
   "outputs": [],
   "source": [
    "x_train = sc_x.fit_transform(x_train)"
   ]
  },
  {
   "cell_type": "code",
   "execution_count": 35,
   "id": "66387c28-a949-42ad-b399-481edf87024b",
   "metadata": {},
   "outputs": [],
   "source": [
    "x_test = sc_x.transform(x_test)"
   ]
  },
  {
   "cell_type": "code",
   "execution_count": 36,
   "id": "c33ec07e-86da-4ef1-bf70-846cd10e28b5",
   "metadata": {},
   "outputs": [
    {
     "data": {
      "text/plain": [
       "array([[-0.37796447,  0.        , -0.37796447, -0.37796447,  0.        ,\n",
       "         2.64575131, -0.37796447, -0.37796447, -0.37796447, -0.37796447],\n",
       "       [-0.37796447,  0.        , -0.37796447, -0.37796447,  0.        ,\n",
       "        -0.37796447, -0.37796447,  2.64575131, -0.37796447, -0.37796447],\n",
       "       [-0.37796447,  0.        ,  2.64575131, -0.37796447,  0.        ,\n",
       "        -0.37796447, -0.37796447, -0.37796447, -0.37796447, -0.37796447],\n",
       "       [-0.37796447,  0.        , -0.37796447, -0.37796447,  0.        ,\n",
       "        -0.37796447,  2.64575131, -0.37796447, -0.37796447, -0.37796447],\n",
       "       [-0.37796447,  0.        , -0.37796447,  2.64575131,  0.        ,\n",
       "        -0.37796447, -0.37796447, -0.37796447, -0.37796447, -0.37796447],\n",
       "       [ 2.64575131,  0.        , -0.37796447, -0.37796447,  0.        ,\n",
       "        -0.37796447, -0.37796447, -0.37796447, -0.37796447, -0.37796447],\n",
       "       [-0.37796447,  0.        , -0.37796447, -0.37796447,  0.        ,\n",
       "        -0.37796447, -0.37796447, -0.37796447, -0.37796447,  2.64575131],\n",
       "       [-0.37796447,  0.        , -0.37796447, -0.37796447,  0.        ,\n",
       "        -0.37796447, -0.37796447, -0.37796447,  2.64575131, -0.37796447]])"
      ]
     },
     "execution_count": 36,
     "metadata": {},
     "output_type": "execute_result"
    }
   ],
   "source": [
    "x_train"
   ]
  },
  {
   "cell_type": "code",
   "execution_count": 37,
   "id": "62897061-bcd0-40fd-ae75-8804f306f684",
   "metadata": {},
   "outputs": [
    {
     "data": {
      "text/plain": [
       "array([[-0.37796447,  0.        , -0.37796447, -0.37796447,  1.        ,\n",
       "        -0.37796447, -0.37796447, -0.37796447, -0.37796447, -0.37796447],\n",
       "       [-0.37796447,  1.        , -0.37796447, -0.37796447,  0.        ,\n",
       "        -0.37796447, -0.37796447, -0.37796447, -0.37796447, -0.37796447]])"
      ]
     },
     "execution_count": 37,
     "metadata": {},
     "output_type": "execute_result"
    }
   ],
   "source": [
    "x_test"
   ]
  },
  {
   "cell_type": "code",
   "execution_count": null,
   "id": "f34bca4f-2ea8-442b-ba31-b565eb1a1416",
   "metadata": {},
   "outputs": [],
   "source": []
  }
 ],
 "metadata": {
  "kernelspec": {
   "display_name": "Python 3 (ipykernel)",
   "language": "python",
   "name": "python3"
  },
  "language_info": {
   "codemirror_mode": {
    "name": "ipython",
    "version": 3
   },
   "file_extension": ".py",
   "mimetype": "text/x-python",
   "name": "python",
   "nbconvert_exporter": "python",
   "pygments_lexer": "ipython3",
   "version": "3.12.4"
  }
 },
 "nbformat": 4,
 "nbformat_minor": 5
}
